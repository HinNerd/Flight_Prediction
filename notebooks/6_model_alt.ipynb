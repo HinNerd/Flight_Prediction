{
 "cells": [
  {
   "cell_type": "code",
   "execution_count": 22,
   "metadata": {},
   "outputs": [],
   "source": [
    "# Imports\n",
    "import pandas as pd\n",
    "import numpy as np\n",
    "import matplotlib.pyplot as plt\n",
    "import seaborn as sns\n",
    "import os\n",
    "import warnings\n",
    "import random\n",
    "\n",
    "from sklearn.model_selection import train_test_split\n",
    "from sklearn.metrics import r2_score, mean_squared_error\n",
    "from sklearn.linear_model import LinearRegression, Ridge, Lasso, HuberRegressor, ElasticNet\n",
    "from sklearn.ensemble import RandomForestRegressor, GradientBoostingRegressor\n",
    "from sklearn.tree import DecisionTreeRegressor\n",
    "from sklearn.svm import SVR\n",
    "from sklearn.pipeline import Pipeline\n",
    "from sklearn.model_selection import GridSearchCV\n",
    "from sklearn.preprocessing import QuantileTransformer\n",
    "# from pprint import pprint"
   ]
  },
  {
   "cell_type": "code",
   "execution_count": 8,
   "metadata": {},
   "outputs": [],
   "source": [
    "# Adjust settings\n",
    "warnings.filterwarnings('ignore')\n",
    "pd.set_option('display.max_columns', None)\n",
    "pd.set_option('display.max_rows', 50)\n",
    "%matplotlib inline"
   ]
  },
  {
   "cell_type": "code",
   "execution_count": 9,
   "metadata": {},
   "outputs": [],
   "source": [
    "# Load preprocessed dataset\n",
    "data_path = '../data/processed/'\n",
    "df = pd.read_pickle(os.path.join(data_path, 'final_one_hot.pkl'))"
   ]
  },
  {
   "cell_type": "code",
   "execution_count": 10,
   "metadata": {},
   "outputs": [],
   "source": [
    "# Generate train/test splits\n",
    "X_train_arr, X_test_arr, y_train_arr, y_test_arr = train_test_split(df.drop(['arr_delay'], axis=1), df['arr_delay'], test_size=0.33, random_state=42)\n",
    "\n",
    "# Create dataframe to save model evaluation parameters\n",
    "eval = pd.DataFrame(columns= ['Group', 'Model', 'R^2 test', 'RMSE test', 'R^2 train', 'RMSE train'])"
   ]
  },
  {
   "cell_type": "code",
   "execution_count": 39,
   "metadata": {},
   "outputs": [
    {
     "name": "stdout",
     "output_type": "stream",
     "text": [
      "Fitting 3 folds for each of 9 candidates, totalling 27 fits\n",
      "Pipeline(steps=[('regressor', Ridge(alpha=3))]) {'regressor': Ridge(alpha=3), 'regressor__alpha': 3}\n",
      "The r^2 for arrival delay is -6.567\n",
      "The RMSE for arrival delay is 6.57minutes.\n",
      "\n",
      "\n",
      "CPU times: user 206 ms, sys: 122 ms, total: 328 ms\n",
      "Wall time: 2.96 s\n"
     ]
    }
   ],
   "source": [
    "%%time\n",
    "\n",
    "# Setup different regressors\n",
    "regr_01 = LinearRegression()\n",
    "regr_02 = Ridge()\n",
    "regr_03 = Lasso()\n",
    "regr_04 = HuberRegressor()\n",
    "regr_05 = GradientBoostingRegressor()\n",
    "regr_06 = ElasticNet()\n",
    "regr_07 = DecisionTreeRegressor()\n",
    "regr_08 = RandomForestRegressor()\n",
    "regr_09 = SVR()\n",
    "\n",
    "# Initialize hyperparameters for regressor\n",
    "param_01 = {}\n",
    "\n",
    "param_02 = {}\n",
    "param_02['regressor__alpha'] = [3] # [1, 5, 10], [4, 5, 6], [2, 3, 4]\n",
    "param_02['regressor'] = [regr_02]\n",
    "\n",
    "param_03 = {}\n",
    "param_03['regressor__alpha'] = [0, 1, 10, 100]\n",
    "param_03['regressor'] = [regr_03]\n",
    "\n",
    "param_04 = {}\n",
    "param_05 = {}\n",
    "param_06 = {}\n",
    "param_07 = {}\n",
    "\n",
    "# Create Pipeline\n",
    "pipeline = Pipeline([('regressor', regr_03)])\n",
    "params = [param_02, param_03, param_04, param_05, param_06, param_07]\n",
    "\n",
    "# Initiate Gridsearch model\n",
    "gs_arr = GridSearchCV(pipeline, params, cv=3, scoring='neg_root_mean_squared_error', n_jobs=-1, verbose=1)\n",
    "\n",
    "# Train GridSearch\n",
    "gs_arr.fit(X_train_arr, y_train_arr)\n",
    "\n",
    "# Print best parameters for the models\n",
    "print(gs_arr.best_estimator_, gs_arr.best_params_)\n",
    "\n",
    "r2_arr_delay = gs_arr.score(X_test_arr, y_test_arr)\n",
    "rmse_arr_delay = np.sqrt(mean_squared_error(y_test_arr, gs_arr.predict(X_test_arr)))\n",
    "print('The r^2 for arrival delay is ' + str(round(r2_arr_delay, 4)))\n",
    "print('The RMSE for arrival delay is ' + str(round(rmse_arr_delay, 2)) + 'minutes.')\n",
    "print('\\n')\n"
   ]
  },
  {
   "cell_type": "code",
   "execution_count": null,
   "metadata": {},
   "outputs": [],
   "source": []
  }
 ],
 "metadata": {
  "kernelspec": {
   "display_name": "Python 3.9.4",
   "language": "python",
   "name": "python3"
  },
  "language_info": {
   "codemirror_mode": {
    "name": "ipython",
    "version": 3
   },
   "file_extension": ".py",
   "mimetype": "text/x-python",
   "name": "python",
   "nbconvert_exporter": "python",
   "pygments_lexer": "ipython3",
   "version": "3.9.4"
  },
  "orig_nbformat": 4,
  "vscode": {
   "interpreter": {
    "hash": "92e026c127e5e0d2f55e049d7f4aa16d9e4df8376db9ef3d6ecb7a5c71619beb"
   }
  }
 },
 "nbformat": 4,
 "nbformat_minor": 2
}
