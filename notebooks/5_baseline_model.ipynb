{
 "cells": [
  {
   "cell_type": "markdown",
   "metadata": {},
   "source": [
    "# Setting up a baseline model for benchmarking\n",
    "The general architecture of the model will be using two indermediate models to predict the departure and arrival delays for each consecutive flight, which will be ultimately added to the scheduled times: next_landing_time = last_landing_time + onblock_sched + dep_delay + offblock_sched + arr_delay\n",
    "\n",
    "Two simple baseline models will be established to predict the consecuetivee landing times of a given connection chain:\n",
    "1. Predicting delays as means of delays\n",
    "1. Random forests regression"
   ]
  },
  {
   "cell_type": "code",
   "execution_count": 49,
   "metadata": {},
   "outputs": [],
   "source": [
    "# Imports\n",
    "import pandas as pd\n",
    "import numpy as np\n",
    "import matplotlib.pyplot as plt\n",
    "import seaborn as sns\n",
    "import os\n",
    "import warnings\n",
    "import random\n",
    "\n",
    "from sklearn.model_selection import train_test_split\n",
    "from sklearn.metrics import r2_score, mean_squared_error\n",
    "from sklearn.dummy import DummyRegressor\n",
    "from sklearn.ensemble import RandomForestRegressor\n"
   ]
  },
  {
   "cell_type": "code",
   "execution_count": 50,
   "metadata": {},
   "outputs": [],
   "source": [
    "# Adjust settings\n",
    "warnings.filterwarnings('ignore')\n",
    "pd.set_option('display.max_columns', None)\n",
    "pd.set_option('display.max_rows', 50)\n",
    "%matplotlib inline"
   ]
  },
  {
   "cell_type": "code",
   "execution_count": 51,
   "metadata": {},
   "outputs": [],
   "source": [
    "# Load preprocessed dataset\n",
    "data_path = '../data/processed/'\n",
    "df = pd.read_pickle(os.path.join(data_path, 'final_one_hot.pkl'))"
   ]
  },
  {
   "cell_type": "code",
   "execution_count": 53,
   "metadata": {},
   "outputs": [],
   "source": [
    "# Generate train/test splits for both intermediate models\n",
    "X_train_arr_delay, X_test_arr_delay, y_train_arr_delay, y_test_arr_delay = train_test_split(df_one_hot.drop(['arr_delay'], axis=1), df_one_hot['arr_delay'], test_size=0.33, random_state=42)"
   ]
  },
  {
   "cell_type": "code",
   "execution_count": 54,
   "metadata": {},
   "outputs": [
    {
     "data": {
      "text/plain": [
       "array([18.43333333, 18.43333333, 18.43333333, ..., 18.43333333,\n",
       "       18.43333333, 18.43333333])"
      ]
     },
     "execution_count": 54,
     "metadata": {},
     "output_type": "execute_result"
    }
   ],
   "source": [
    "# Implement first baseline model as mean of delays\n",
    "dummy_regr_off = DummyRegressor(strategy='mean')\n",
    "dummy_regr_off.fit(X_train_arr_delay, y_train_arr_delay)\n",
    "dummy_regr_off.predict(X_test_arr_delay)"
   ]
  },
  {
   "cell_type": "code",
   "execution_count": 55,
   "metadata": {},
   "outputs": [
    {
     "name": "stdout",
     "output_type": "stream",
     "text": [
      "The r^2 for arrival delay is -0.0\n",
      "The RMSE for arrival delay is 20.76minutes.\n",
      "\n",
      "\n"
     ]
    }
   ],
   "source": [
    "r2_arr_delay = dummy_regr_off.score(X_test_arr_delay, y_test_arr_delay)\n",
    "rmse_arr_delay = np.sqrt(mean_squared_error(y_test_arr_delay, dummy_regr_off.predict(X_test_arr_delay)))\n",
    "print('The r^2 for arrival delay is ' + str(round(r2_arr_delay, 4)))\n",
    "print('The RMSE for arrival delay is ' + str(round(rmse_arr_delay, 2)) + 'minutes.')\n",
    "print('\\n')"
   ]
  }
 ],
 "metadata": {
  "interpreter": {
   "hash": "92e026c127e5e0d2f55e049d7f4aa16d9e4df8376db9ef3d6ecb7a5c71619beb"
  },
  "kernelspec": {
   "display_name": "Python 3.9.4",
   "language": "python",
   "name": "python3"
  },
  "language_info": {
   "codemirror_mode": {
    "name": "ipython",
    "version": 3
   },
   "file_extension": ".py",
   "mimetype": "text/x-python",
   "name": "python",
   "nbconvert_exporter": "python",
   "pygments_lexer": "ipython3",
   "version": "3.9.4"
  },
  "orig_nbformat": 4
 },
 "nbformat": 4,
 "nbformat_minor": 2
}
