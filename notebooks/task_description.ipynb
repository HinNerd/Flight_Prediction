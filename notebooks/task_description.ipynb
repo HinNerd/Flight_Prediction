{
 "cells": [
  {
   "cell_type": "markdown",
   "metadata": {},
   "source": [
    "# Task: Efficient Flight Operations at East Carmen Airlines via a Machine Learning Flight Prediction Model\n",
    "## Case Description\n",
    "Welcome to East Carmen Airlines! As a strategic data scientist, you are confronted with many use cases to digitalize the airline business. Most important for airlines are accurate predictions of flight arrivals during a day of operations. When it comes to passenger handling, such predictions would admit a proactive steering, in order that the passengers reach the connection flights and therefore save a lot of money.\n",
    "Your model should be applicable to each aircraft in East Carmen’s fleet. Let us take as an example the aircraft with registration name EC-LPD. At scheduled departure of the earliest morning flight from East Carmen’s hub Madrid the model should predict all flights of EC-LPD on the given day.\n",
    "Many business stakeholders do not trust in the robustness of such a model. They claim that for a given aircraft, one could predict the first flight of the day with a decent error, but the errors of second and third flights will be huge. It is now your task to convince the business stakeholders that with a well-prepared data set and meaningful features you can deliver robust flight predictions.\n",
    "## Project aim\n",
    "From different departments business analysts have collected a lot of information on possible features for flight predictions. Now it is your task to use these data to deliver a prototype forecasting model for all flights of a given aircraft at scheduled departure of the first flight of the day. For instance, for an aircraft with registration name EC-LPD, first flight of the day (FFOD) scheduled at 5:30 am from MAD to VIE and with the connection chain MAD-VIE-MAD-CDG-MAD-LHR-MAD your model should predict the successive landing times in VIE, MAD, CDG, MAD, LHR, MAD. The colleagues from daily operations are especially interested in how the confidence level of such a model evolves during a day of operations.\n",
    "## Data set\n",
    "The data set and all relevant information from business side (operational-, weather data per flight, fleet list) are given in a separate *.zip folder, which will be attached to the course material.\n",
    "## Task description\n",
    "The task consists of both coding and conceptual steps. Here is a list of tasks, which should be included in your final document:\n",
    "-  Structure the project via the CRISP-DM or Team DS methodologies and give a recommendation of how a git repository for the project could look like. Note that you do not have to structure your final code according to your git-repository proposal.\n",
    "-  Assess the quality of the provided data set. Prepare and visualize your findings of the initial data analysis in order that business stakeholders can understand them in a clear and easy way.\n",
    "-  Provide a baseline model as well as a prototype predictive model, which fulfils business requirements described above in the “project aim”.\n",
    "-  In order that the business places confidence in your model, discuss the importance of the individual features and make the results of the model interpretable. Note that it is especially important for the business colleagues to understand the error of predictions for successive flights in the chain.\n",
    "-  In the last step of the project give a proposal of how your model could be used in everyday work, for instance, via a graphical user inferface (GUI). Discuss possible relevant information, which is not yet included into the data set and which could help to improve the forecast."
   ]
  }
 ],
 "metadata": {
  "language_info": {
   "name": "python"
  },
  "orig_nbformat": 4
 },
 "nbformat": 4,
 "nbformat_minor": 2
}
